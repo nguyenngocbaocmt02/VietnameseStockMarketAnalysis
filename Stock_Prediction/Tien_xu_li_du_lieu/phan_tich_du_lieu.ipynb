{
 "cells": [
  {
   "cell_type": "markdown",
   "metadata": {
    "id": "Fav_VR1sDvEL"
   },
   "source": [
    "# Xử lý dữ liệu chứng khoán"
   ]
  },
  {
   "cell_type": "markdown",
   "metadata": {
    "id": "58DoY_66JL6A"
   },
   "source": [
    "## Đọc dữ liệu đầu vào"
   ]
  },
  {
   "cell_type": "code",
   "execution_count": 1,
   "metadata": {
    "colab": {
     "base_uri": "https://localhost:8080/"
    },
    "id": "28Xpdarw5L6V",
    "outputId": "8549a2b5-104c-446b-c1bd-36507451cac5"
   },
   "outputs": [
    {
     "name": "stdout",
     "output_type": "stream",
     "text": [
      "data_clean\\BVH.csv\n",
      "data_clean\\CTG.csv\n",
      "data_clean\\DPM.csv\n",
      "data_clean\\DPR.csv\n",
      "data_clean\\DXG.csv\n",
      "data_clean\\EIB.csv\n",
      "data_clean\\FPT.csv\n",
      "data_clean\\GAS.csv\n",
      "data_clean\\GMD.csv\n",
      "data_clean\\HPG.csv\n",
      "data_clean\\MBB.csv\n",
      "data_clean\\MSN.csv\n",
      "data_clean\\NKG.csv\n",
      "data_clean\\PNJ.csv\n",
      "data_clean\\PTB.csv\n",
      "data_clean\\STB.csv\n",
      "data_clean\\VCB.csv\n",
      "data_clean\\VIC.csv\n",
      "data_clean\\VNINDEX.csv\n",
      "data_clean\\VNM.csv\n"
     ]
    }
   ],
   "source": [
    "# Đọc các file nhỏ đã xử lý rồi tiến hành phân tích dữ liệu\n",
    "import glob\n",
    "import os\n",
    "import pandas as pd\n",
    "folder = 'data_clean'\n",
    "\n",
    "df_all = {}\n",
    "for path in glob.glob(os.path.join(folder, '*.csv')):\n",
    "    print(path)\n",
    "    file_name = os.path.basename(path)\n",
    "    df_all[file_name.split('.')[0]] = pd.read_csv(path)"
   ]
  },
  {
   "cell_type": "code",
   "execution_count": 2,
   "metadata": {
    "colab": {
     "base_uri": "https://localhost:8080/"
    },
    "id": "JFpvWdZtRRh_",
    "outputId": "6d825530-f2e3-495c-d121-e08eff36c4b7"
   },
   "outputs": [
    {
     "name": "stdout",
     "output_type": "stream",
     "text": [
      "      <DTYYYYMMDD>   <Open>     <High>      <Low>  <Close>   <Volume>\n",
      "0       20120521.0  45.6568  45.656900  44.433900  45.6569   996590.0\n",
      "1       20120522.0  46.4721  46.879800  44.433900  44.8416   209070.0\n",
      "2       20120523.0  44.8415  44.841500  43.210900  43.2110   108330.0\n",
      "3       20120524.0  43.2109  43.618600  41.172700  41.5804   371190.0\n",
      "4       20120525.0  42.8033  43.618600  42.395600  43.6186   210970.0\n",
      "...            ...      ...        ...        ...      ...        ...\n",
      "2491    20220516.0  52.0000  53.704381  50.579618  47.9000  1700500.0\n",
      "2492    20220517.0  47.0000  48.509564  47.000000  51.2000  1824800.0\n",
      "2493    20220518.0  51.9000  52.500000  50.500000  50.7000  1289600.0\n",
      "2494    20220519.0  49.2000  50.900000  49.150000  50.1000  1582900.0\n",
      "2495    20220520.0  50.0000  51.500000  49.850000  50.2000  1463400.0\n",
      "\n",
      "[2496 rows x 6 columns]\n"
     ]
    }
   ],
   "source": [
    "for key in df_all:\n",
    "    print(df_all[key])\n",
    "    break"
   ]
  },
  {
   "cell_type": "code",
   "execution_count": 3,
   "metadata": {
    "colab": {
     "base_uri": "https://localhost:8080/"
    },
    "id": "S_Eovl6s8S8F",
    "outputId": "83236b33-58da-4888-dc81-ef676fde1027"
   },
   "outputs": [],
   "source": [
    "import numpy as np\n",
    "# Trong bộ dữ liệu này, ta tập trung phân tích dữ liệu Close\n",
    "close_all = pd.DataFrame()\n",
    "for gauge in df_all:\n",
    "    close_all[gauge] = df_all[gauge]['<Close>'].replace(\"**\", -999).astype(float)"
   ]
  },
  {
   "cell_type": "code",
   "execution_count": 4,
   "metadata": {},
   "outputs": [
    {
     "data": {
      "text/html": [
       "<div>\n",
       "<style scoped>\n",
       "    .dataframe tbody tr th:only-of-type {\n",
       "        vertical-align: middle;\n",
       "    }\n",
       "\n",
       "    .dataframe tbody tr th {\n",
       "        vertical-align: top;\n",
       "    }\n",
       "\n",
       "    .dataframe thead th {\n",
       "        text-align: right;\n",
       "    }\n",
       "</style>\n",
       "<table border=\"1\" class=\"dataframe\">\n",
       "  <thead>\n",
       "    <tr style=\"text-align: right;\">\n",
       "      <th></th>\n",
       "      <th>BVH</th>\n",
       "      <th>CTG</th>\n",
       "      <th>DPM</th>\n",
       "      <th>DPR</th>\n",
       "      <th>DXG</th>\n",
       "      <th>EIB</th>\n",
       "      <th>FPT</th>\n",
       "      <th>GAS</th>\n",
       "      <th>GMD</th>\n",
       "      <th>HPG</th>\n",
       "      <th>MBB</th>\n",
       "      <th>MSN</th>\n",
       "      <th>NKG</th>\n",
       "      <th>PNJ</th>\n",
       "      <th>PTB</th>\n",
       "      <th>STB</th>\n",
       "      <th>VCB</th>\n",
       "      <th>VIC</th>\n",
       "      <th>VNINDEX</th>\n",
       "      <th>VNM</th>\n",
       "    </tr>\n",
       "  </thead>\n",
       "  <tbody>\n",
       "    <tr>\n",
       "      <th>0</th>\n",
       "      <td>45.6569</td>\n",
       "      <td>12.4018</td>\n",
       "      <td>13.5002</td>\n",
       "      <td>18.3937</td>\n",
       "      <td>3.3882</td>\n",
       "      <td>15.6319</td>\n",
       "      <td>10.5722</td>\n",
       "      <td>24.8349</td>\n",
       "      <td>10.0454</td>\n",
       "      <td>1.8272</td>\n",
       "      <td>4.9108</td>\n",
       "      <td>53.4079</td>\n",
       "      <td>4.0648</td>\n",
       "      <td>10.0215</td>\n",
       "      <td>2.7723</td>\n",
       "      <td>15.6833</td>\n",
       "      <td>13.8005</td>\n",
       "      <td>16.7846</td>\n",
       "      <td>448.02</td>\n",
       "      <td>16.4147</td>\n",
       "    </tr>\n",
       "    <tr>\n",
       "      <th>1</th>\n",
       "      <td>44.8416</td>\n",
       "      <td>12.0636</td>\n",
       "      <td>13.6186</td>\n",
       "      <td>18.3937</td>\n",
       "      <td>3.2863</td>\n",
       "      <td>15.7183</td>\n",
       "      <td>10.4257</td>\n",
       "      <td>26.0463</td>\n",
       "      <td>10.0052</td>\n",
       "      <td>1.8272</td>\n",
       "      <td>4.8125</td>\n",
       "      <td>51.8523</td>\n",
       "      <td>3.8800</td>\n",
       "      <td>10.0697</td>\n",
       "      <td>2.7129</td>\n",
       "      <td>15.8088</td>\n",
       "      <td>13.4639</td>\n",
       "      <td>17.1170</td>\n",
       "      <td>447.94</td>\n",
       "      <td>16.2302</td>\n",
       "    </tr>\n",
       "    <tr>\n",
       "      <th>2</th>\n",
       "      <td>43.2110</td>\n",
       "      <td>11.7253</td>\n",
       "      <td>13.3028</td>\n",
       "      <td>18.2116</td>\n",
       "      <td>3.1334</td>\n",
       "      <td>15.7183</td>\n",
       "      <td>10.2163</td>\n",
       "      <td>24.7743</td>\n",
       "      <td>9.7239</td>\n",
       "      <td>1.8198</td>\n",
       "      <td>4.6816</td>\n",
       "      <td>51.8523</td>\n",
       "      <td>3.6952</td>\n",
       "      <td>10.0938</td>\n",
       "      <td>2.6337</td>\n",
       "      <td>15.6833</td>\n",
       "      <td>12.7907</td>\n",
       "      <td>16.9508</td>\n",
       "      <td>436.75</td>\n",
       "      <td>16.1380</td>\n",
       "    </tr>\n",
       "    <tr>\n",
       "      <th>3</th>\n",
       "      <td>41.5804</td>\n",
       "      <td>11.3871</td>\n",
       "      <td>13.2239</td>\n",
       "      <td>17.4831</td>\n",
       "      <td>2.9806</td>\n",
       "      <td>15.4592</td>\n",
       "      <td>10.1745</td>\n",
       "      <td>23.5628</td>\n",
       "      <td>9.7641</td>\n",
       "      <td>1.7828</td>\n",
       "      <td>4.6161</td>\n",
       "      <td>51.8523</td>\n",
       "      <td>3.8800</td>\n",
       "      <td>9.9975</td>\n",
       "      <td>2.6337</td>\n",
       "      <td>15.6206</td>\n",
       "      <td>12.2858</td>\n",
       "      <td>16.7846</td>\n",
       "      <td>426.92</td>\n",
       "      <td>15.9536</td>\n",
       "    </tr>\n",
       "    <tr>\n",
       "      <th>4</th>\n",
       "      <td>43.6186</td>\n",
       "      <td>11.9508</td>\n",
       "      <td>13.8554</td>\n",
       "      <td>17.7016</td>\n",
       "      <td>3.1079</td>\n",
       "      <td>15.6319</td>\n",
       "      <td>10.3838</td>\n",
       "      <td>23.6234</td>\n",
       "      <td>10.2463</td>\n",
       "      <td>1.8494</td>\n",
       "      <td>4.8453</td>\n",
       "      <td>51.8523</td>\n",
       "      <td>4.0648</td>\n",
       "      <td>10.0215</td>\n",
       "      <td>2.7129</td>\n",
       "      <td>15.9970</td>\n",
       "      <td>12.8749</td>\n",
       "      <td>16.9508</td>\n",
       "      <td>437.38</td>\n",
       "      <td>16.1380</td>\n",
       "    </tr>\n",
       "    <tr>\n",
       "      <th>...</th>\n",
       "      <td>...</td>\n",
       "      <td>...</td>\n",
       "      <td>...</td>\n",
       "      <td>...</td>\n",
       "      <td>...</td>\n",
       "      <td>...</td>\n",
       "      <td>...</td>\n",
       "      <td>...</td>\n",
       "      <td>...</td>\n",
       "      <td>...</td>\n",
       "      <td>...</td>\n",
       "      <td>...</td>\n",
       "      <td>...</td>\n",
       "      <td>...</td>\n",
       "      <td>...</td>\n",
       "      <td>...</td>\n",
       "      <td>...</td>\n",
       "      <td>...</td>\n",
       "      <td>...</td>\n",
       "      <td>...</td>\n",
       "    </tr>\n",
       "    <tr>\n",
       "      <th>2491</th>\n",
       "      <td>47.9000</td>\n",
       "      <td>24.5500</td>\n",
       "      <td>46.0500</td>\n",
       "      <td>68.5000</td>\n",
       "      <td>25.0000</td>\n",
       "      <td>31.1000</td>\n",
       "      <td>93.2000</td>\n",
       "      <td>95.0000</td>\n",
       "      <td>48.4000</td>\n",
       "      <td>36.3000</td>\n",
       "      <td>24.6000</td>\n",
       "      <td>90.2000</td>\n",
       "      <td>25.7000</td>\n",
       "      <td>98.0000</td>\n",
       "      <td>96.0000</td>\n",
       "      <td>19.0500</td>\n",
       "      <td>74.2000</td>\n",
       "      <td>77.0000</td>\n",
       "      <td>1171.95</td>\n",
       "      <td>65.8000</td>\n",
       "    </tr>\n",
       "    <tr>\n",
       "      <th>2492</th>\n",
       "      <td>51.2000</td>\n",
       "      <td>26.2500</td>\n",
       "      <td>49.2500</td>\n",
       "      <td>73.2000</td>\n",
       "      <td>26.2000</td>\n",
       "      <td>31.5000</td>\n",
       "      <td>99.7000</td>\n",
       "      <td>100.9000</td>\n",
       "      <td>51.7000</td>\n",
       "      <td>38.2000</td>\n",
       "      <td>26.3000</td>\n",
       "      <td>96.5000</td>\n",
       "      <td>27.4500</td>\n",
       "      <td>103.1000</td>\n",
       "      <td>98.0000</td>\n",
       "      <td>20.3500</td>\n",
       "      <td>76.0000</td>\n",
       "      <td>78.0000</td>\n",
       "      <td>1228.37</td>\n",
       "      <td>70.0000</td>\n",
       "    </tr>\n",
       "    <tr>\n",
       "      <th>2493</th>\n",
       "      <td>50.7000</td>\n",
       "      <td>26.6000</td>\n",
       "      <td>52.4000</td>\n",
       "      <td>74.7000</td>\n",
       "      <td>26.7000</td>\n",
       "      <td>31.5000</td>\n",
       "      <td>97.7000</td>\n",
       "      <td>105.0000</td>\n",
       "      <td>51.2000</td>\n",
       "      <td>38.2000</td>\n",
       "      <td>26.6500</td>\n",
       "      <td>103.2000</td>\n",
       "      <td>29.0000</td>\n",
       "      <td>102.1000</td>\n",
       "      <td>97.0000</td>\n",
       "      <td>21.7500</td>\n",
       "      <td>75.4000</td>\n",
       "      <td>78.0000</td>\n",
       "      <td>1240.76</td>\n",
       "      <td>70.3000</td>\n",
       "    </tr>\n",
       "    <tr>\n",
       "      <th>2494</th>\n",
       "      <td>50.1000</td>\n",
       "      <td>26.1000</td>\n",
       "      <td>53.5000</td>\n",
       "      <td>76.3000</td>\n",
       "      <td>25.5000</td>\n",
       "      <td>30.4000</td>\n",
       "      <td>97.0000</td>\n",
       "      <td>105.8000</td>\n",
       "      <td>51.0000</td>\n",
       "      <td>37.9000</td>\n",
       "      <td>26.7500</td>\n",
       "      <td>110.4000</td>\n",
       "      <td>28.7000</td>\n",
       "      <td>102.1000</td>\n",
       "      <td>98.0000</td>\n",
       "      <td>21.7500</td>\n",
       "      <td>76.0000</td>\n",
       "      <td>77.9000</td>\n",
       "      <td>1241.64</td>\n",
       "      <td>69.0000</td>\n",
       "    </tr>\n",
       "    <tr>\n",
       "      <th>2495</th>\n",
       "      <td>50.2000</td>\n",
       "      <td>25.9000</td>\n",
       "      <td>55.5000</td>\n",
       "      <td>76.2000</td>\n",
       "      <td>26.9500</td>\n",
       "      <td>30.9000</td>\n",
       "      <td>97.5000</td>\n",
       "      <td>104.5000</td>\n",
       "      <td>49.8000</td>\n",
       "      <td>37.6500</td>\n",
       "      <td>27.0000</td>\n",
       "      <td>107.8000</td>\n",
       "      <td>29.7000</td>\n",
       "      <td>106.0000</td>\n",
       "      <td>102.5000</td>\n",
       "      <td>21.6000</td>\n",
       "      <td>75.3000</td>\n",
       "      <td>77.8000</td>\n",
       "      <td>1240.71</td>\n",
       "      <td>68.1000</td>\n",
       "    </tr>\n",
       "  </tbody>\n",
       "</table>\n",
       "<p>2496 rows × 20 columns</p>\n",
       "</div>"
      ],
      "text/plain": [
       "          BVH      CTG      DPM      DPR      DXG      EIB      FPT       GAS  \\\n",
       "0     45.6569  12.4018  13.5002  18.3937   3.3882  15.6319  10.5722   24.8349   \n",
       "1     44.8416  12.0636  13.6186  18.3937   3.2863  15.7183  10.4257   26.0463   \n",
       "2     43.2110  11.7253  13.3028  18.2116   3.1334  15.7183  10.2163   24.7743   \n",
       "3     41.5804  11.3871  13.2239  17.4831   2.9806  15.4592  10.1745   23.5628   \n",
       "4     43.6186  11.9508  13.8554  17.7016   3.1079  15.6319  10.3838   23.6234   \n",
       "...       ...      ...      ...      ...      ...      ...      ...       ...   \n",
       "2491  47.9000  24.5500  46.0500  68.5000  25.0000  31.1000  93.2000   95.0000   \n",
       "2492  51.2000  26.2500  49.2500  73.2000  26.2000  31.5000  99.7000  100.9000   \n",
       "2493  50.7000  26.6000  52.4000  74.7000  26.7000  31.5000  97.7000  105.0000   \n",
       "2494  50.1000  26.1000  53.5000  76.3000  25.5000  30.4000  97.0000  105.8000   \n",
       "2495  50.2000  25.9000  55.5000  76.2000  26.9500  30.9000  97.5000  104.5000   \n",
       "\n",
       "          GMD      HPG      MBB       MSN      NKG       PNJ       PTB  \\\n",
       "0     10.0454   1.8272   4.9108   53.4079   4.0648   10.0215    2.7723   \n",
       "1     10.0052   1.8272   4.8125   51.8523   3.8800   10.0697    2.7129   \n",
       "2      9.7239   1.8198   4.6816   51.8523   3.6952   10.0938    2.6337   \n",
       "3      9.7641   1.7828   4.6161   51.8523   3.8800    9.9975    2.6337   \n",
       "4     10.2463   1.8494   4.8453   51.8523   4.0648   10.0215    2.7129   \n",
       "...       ...      ...      ...       ...      ...       ...       ...   \n",
       "2491  48.4000  36.3000  24.6000   90.2000  25.7000   98.0000   96.0000   \n",
       "2492  51.7000  38.2000  26.3000   96.5000  27.4500  103.1000   98.0000   \n",
       "2493  51.2000  38.2000  26.6500  103.2000  29.0000  102.1000   97.0000   \n",
       "2494  51.0000  37.9000  26.7500  110.4000  28.7000  102.1000   98.0000   \n",
       "2495  49.8000  37.6500  27.0000  107.8000  29.7000  106.0000  102.5000   \n",
       "\n",
       "          STB      VCB      VIC  VNINDEX      VNM  \n",
       "0     15.6833  13.8005  16.7846   448.02  16.4147  \n",
       "1     15.8088  13.4639  17.1170   447.94  16.2302  \n",
       "2     15.6833  12.7907  16.9508   436.75  16.1380  \n",
       "3     15.6206  12.2858  16.7846   426.92  15.9536  \n",
       "4     15.9970  12.8749  16.9508   437.38  16.1380  \n",
       "...       ...      ...      ...      ...      ...  \n",
       "2491  19.0500  74.2000  77.0000  1171.95  65.8000  \n",
       "2492  20.3500  76.0000  78.0000  1228.37  70.0000  \n",
       "2493  21.7500  75.4000  78.0000  1240.76  70.3000  \n",
       "2494  21.7500  76.0000  77.9000  1241.64  69.0000  \n",
       "2495  21.6000  75.3000  77.8000  1240.71  68.1000  \n",
       "\n",
       "[2496 rows x 20 columns]"
      ]
     },
     "execution_count": 4,
     "metadata": {},
     "output_type": "execute_result"
    }
   ],
   "source": [
    "close_all"
   ]
  },
  {
   "cell_type": "markdown",
   "metadata": {
    "id": "c2Qm9kYj9uxb"
   },
   "source": [
    "\n",
    "\n",
    "\n",
    "## Làm sạch dữ liệu"
   ]
  },
  {
   "cell_type": "markdown",
   "metadata": {
    "id": "o4GKtrUy9wYs"
   },
   "source": [
    "### Thống kê dữ liệu"
   ]
  },
  {
   "cell_type": "code",
   "execution_count": 5,
   "metadata": {
    "colab": {
     "base_uri": "https://localhost:8080/"
    },
    "id": "coBmZiIM9xns",
    "outputId": "066f7a5e-dcd4-461b-e22b-b59f58cf8493"
   },
   "outputs": [
    {
     "name": "stdout",
     "output_type": "stream",
     "text": [
      "          BVH      CTG      DPM      DPR      DXG      EIB      FPT       GAS  \\\n",
      "0     45.6569  12.4018  13.5002  18.3937   3.3882  15.6319  10.5722   24.8349   \n",
      "1     44.8416  12.0636  13.6186  18.3937   3.2863  15.7183  10.4257   26.0463   \n",
      "2     43.2110  11.7253  13.3028  18.2116   3.1334  15.7183  10.2163   24.7743   \n",
      "3     41.5804  11.3871  13.2239  17.4831   2.9806  15.4592  10.1745   23.5628   \n",
      "4     43.6186  11.9508  13.8554  17.7016   3.1079  15.6319  10.3838   23.6234   \n",
      "...       ...      ...      ...      ...      ...      ...      ...       ...   \n",
      "2491  47.9000  24.5500  46.0500  68.5000  25.0000  31.1000  93.2000   95.0000   \n",
      "2492  51.2000  26.2500  49.2500  73.2000  26.2000  31.5000  99.7000  100.9000   \n",
      "2493  50.7000  26.6000  52.4000  74.7000  26.7000  31.5000  97.7000  105.0000   \n",
      "2494  50.1000  26.1000  53.5000  76.3000  25.5000  30.4000  97.0000  105.8000   \n",
      "2495  50.2000  25.9000  55.5000  76.2000  26.9500  30.9000  97.5000  104.5000   \n",
      "\n",
      "          GMD      HPG      MBB       MSN      NKG       PNJ       PTB  \\\n",
      "0     10.0454   1.8272   4.9108   53.4079   4.0648   10.0215    2.7723   \n",
      "1     10.0052   1.8272   4.8125   51.8523   3.8800   10.0697    2.7129   \n",
      "2      9.7239   1.8198   4.6816   51.8523   3.6952   10.0938    2.6337   \n",
      "3      9.7641   1.7828   4.6161   51.8523   3.8800    9.9975    2.6337   \n",
      "4     10.2463   1.8494   4.8453   51.8523   4.0648   10.0215    2.7129   \n",
      "...       ...      ...      ...       ...      ...       ...       ...   \n",
      "2491  48.4000  36.3000  24.6000   90.2000  25.7000   98.0000   96.0000   \n",
      "2492  51.7000  38.2000  26.3000   96.5000  27.4500  103.1000   98.0000   \n",
      "2493  51.2000  38.2000  26.6500  103.2000  29.0000  102.1000   97.0000   \n",
      "2494  51.0000  37.9000  26.7500  110.4000  28.7000  102.1000   98.0000   \n",
      "2495  49.8000  37.6500  27.0000  107.8000  29.7000  106.0000  102.5000   \n",
      "\n",
      "          STB      VCB      VIC  VNINDEX      VNM  \n",
      "0     15.6833  13.8005  16.7846   448.02  16.4147  \n",
      "1     15.8088  13.4639  17.1170   447.94  16.2302  \n",
      "2     15.6833  12.7907  16.9508   436.75  16.1380  \n",
      "3     15.6206  12.2858  16.7846   426.92  15.9536  \n",
      "4     15.9970  12.8749  16.9508   437.38  16.1380  \n",
      "...       ...      ...      ...      ...      ...  \n",
      "2491  19.0500  74.2000  77.0000  1171.95  65.8000  \n",
      "2492  20.3500  76.0000  78.0000  1228.37  70.0000  \n",
      "2493  21.7500  75.4000  78.0000  1240.76  70.3000  \n",
      "2494  21.7500  76.0000  77.9000  1241.64  69.0000  \n",
      "2495  21.6000  75.3000  77.8000  1240.71  68.1000  \n",
      "\n",
      "[2496 rows x 20 columns]\n",
      "BVH        0\n",
      "CTG        0\n",
      "DPM        0\n",
      "DPR        0\n",
      "DXG        0\n",
      "EIB        0\n",
      "FPT        0\n",
      "GAS        0\n",
      "GMD        0\n",
      "HPG        0\n",
      "MBB        0\n",
      "MSN        0\n",
      "NKG        0\n",
      "PNJ        0\n",
      "PTB        0\n",
      "STB        0\n",
      "VCB        0\n",
      "VIC        0\n",
      "VNINDEX    0\n",
      "VNM        0\n",
      "dtype: int64\n",
      "BVH        0\n",
      "CTG        0\n",
      "DPM        0\n",
      "DPR        0\n",
      "DXG        0\n",
      "EIB        0\n",
      "FPT        0\n",
      "GAS        0\n",
      "GMD        0\n",
      "HPG        0\n",
      "MBB        0\n",
      "MSN        0\n",
      "NKG        0\n",
      "PNJ        0\n",
      "PTB        0\n",
      "STB        0\n",
      "VCB        0\n",
      "VIC        0\n",
      "VNINDEX    0\n",
      "VNM        0\n",
      "dtype: int64\n",
      "               BVH          CTG          DPM          DPR          DXG  \\\n",
      "count  2496.000000  2496.000000  2496.000000  2496.000000  2496.000000   \n",
      "mean     53.313114    16.463501    18.729902    29.145529    11.075666   \n",
      "std      17.393336     7.303455     9.619696    16.295700     8.276098   \n",
      "min      20.849600     9.002500     9.265400    14.017400     1.783200   \n",
      "25%      39.468225    11.330700    14.960475    18.562000     5.168800   \n",
      "50%      53.219600    13.943700    16.601100    23.993600     8.595950   \n",
      "75%      61.033400    18.416800    18.153800    34.297300    15.348600   \n",
      "max     102.107400    41.141800    75.100000   100.000000    46.750000   \n",
      "\n",
      "               EIB          FPT          GAS          GMD          HPG  \\\n",
      "count  2496.000000  2496.000000  2496.000000  2496.000000  2496.000000   \n",
      "mean     15.672193    30.769941    64.368076    22.125009    14.426742   \n",
      "std       5.489658    24.792986    25.765380    11.102873    13.719484   \n",
      "min       8.800000     6.969800    21.563900     6.107600     1.427700   \n",
      "25%      12.350000    14.884400    44.111300    14.083875     5.163700   \n",
      "50%      13.941300    21.056450    61.868800    19.836500     9.565400   \n",
      "75%      17.200000    38.151700    86.976675    25.717300    17.217500   \n",
      "max      37.500000   116.600000   125.000000    59.500000    58.000000   \n",
      "\n",
      "               MBB          MSN          NKG          PNJ          PTB  \\\n",
      "count  2496.000000  2496.000000  2496.000000  2496.000000  2496.000000   \n",
      "mean     11.445345    57.723725    11.126458    45.344664    41.760616   \n",
      "std       7.516998    23.840450    11.002729    32.207679    29.822368   \n",
      "min       4.092300    30.852100     1.970800     7.724800     2.217900   \n",
      "25%       5.649300    41.654700     4.215650    12.347900    13.271100   \n",
      "50%       8.743800    49.072700     5.787800    42.878100    47.079300   \n",
      "75%      14.242475    68.473500    14.293625    73.685425    58.881400   \n",
      "max      34.400000   143.327600    55.900000   123.500000   129.500000   \n",
      "\n",
      "               STB          VCB          VIC      VNINDEX          VNM  \n",
      "count  2496.000000  2496.000000  2496.000000  2496.000000  2496.000000  \n",
      "mean     14.509459    38.395057    54.191330   802.300577    69.688243  \n",
      "std       5.587400    23.890054    35.335451   292.927482    27.974839  \n",
      "min       7.300000     8.835700    14.726300   375.260000    15.769100  \n",
      "25%      11.437500    14.675425    20.872200   570.022500    40.434400  \n",
      "50%      12.795200    28.051150    31.590800   725.360000    79.499800  \n",
      "75%      14.691700    60.512875    91.469325   979.365000    90.871825  \n",
      "max      35.850000    95.800000   128.016000  1528.570000   126.220000  \n"
     ]
    }
   ],
   "source": [
    "# Đếm số giá trị không phải số\n",
    "print(close_all)\n",
    "print(close_all.isna().sum())\n",
    "# Đếm số giá trị nhỏ hơn 0 (ta coi đây là NaN)\n",
    "print(close_all.lt(0).sum())\n",
    "print(close_all.describe())"
   ]
  },
  {
   "cell_type": "markdown",
   "metadata": {
    "id": "9DsqW4BG-_4M"
   },
   "source": [
    "### Vẽ một vài đồ thị đơn giản để xem độ sạch dữ liệu"
   ]
  },
  {
   "cell_type": "code",
   "execution_count": 6,
   "metadata": {
    "colab": {
     "base_uri": "https://localhost:8080/",
     "height": 566
    },
    "id": "vPdrqj4f_Fvz",
    "outputId": "2a48fe21-b7dd-47da-a3db-fb53e500fe04"
   },
   "outputs": [
    {
     "name": "stderr",
     "output_type": "stream",
     "text": [
      "C:\\Users\\ADMIN\\AppData\\Local\\Temp/ipykernel_14132/1472277305.py:40: UserWarning: Matplotlib is currently using module://matplotlib_inline.backend_inline, which is a non-GUI backend, so cannot show the figure.\n",
      "  fig.show()\n"
     ]
    },
    {
     "data": {
      "image/png": "[encoded data removed]",
      "text/plain": [
       "<Figure size 1440x720 with 2 Axes>"
      ]
     },
     "metadata": {
      "needs_background": "light"
     },
     "output_type": "display_data"
    }
   ],
   "source": [
    "import seaborn\n",
    "import matplotlib.pyplot as plt\n",
    "\n",
    "def barcode_plot_for_timeseries(dataframe, title, x_label, y_label, fig_size_inches=(20,10), xticks_density=10):\n",
    "    \n",
    "    \"\"\" \n",
    "    \n",
    "    - dataframe: dataframe of multiple timeseries(transposed)\n",
    "    \n",
    "        Shape of df:\n",
    "         _______________________________________________________\n",
    "        |   | Timestep1 | Timestep2 | Timestep3 | ... | Timestepn |\n",
    "        |___|___________|___________|___________|_____|___________|\n",
    "        |TS1|    ...    |    ...    |    ...    | ... |   ....    |\n",
    "        |TS2|    ...    |    ...    |    ...    | ... |   ....    |\n",
    "        |TS3|    ...    |    ...    |    ...    | ... |   ....    |\n",
    "        |___|___________|___________|___________|_____|___________| \n",
    "    \n",
    "    - title   : Title of the plot\n",
    "    - x_label : x label of the plot\n",
    "    - y_label : y label of the plot\n",
    "    - fig_size_inches : tuple of figsize, in inches\n",
    "    - xticks_density  : numbers of ticks on x axis (preferably divisible by time length)\n",
    "\n",
    "    \"\"\"\n",
    "    \n",
    "    # set up plot\n",
    "    fig, ax = plt.subplots()\n",
    "    fig.set_size_inches(fig_size_inches[0], fig_size_inches[1])\n",
    "\n",
    "    # actual plot\n",
    "    seaborn.heatmap(dataframe, yticklabels=([stock for stock in close_all]), xticklabels=int(dataframe.shape[1]/xticks_density), ax=ax)\n",
    "    # cosmestic\n",
    "\n",
    "    ax.hlines(list(range(0,dataframe.shape[0])),0, dataframe.shape[1], colors='lightgrey')\n",
    "    ax.set_title(title)\n",
    "    ax.set_xlabel(x_label)\n",
    "    ax.set_ylabel(y_label)\n",
    "\n",
    "    fig.show()\n",
    "\n",
    "barcode_plot_for_timeseries(close_all.to_numpy().transpose(), \"NaN values\", \"Time steps\", \"Gauge\")"
   ]
  },
  {
   "cell_type": "markdown",
   "metadata": {
    "id": "i3p54Pac_F8K"
   },
   "source": [
    "### Xử lý dữ liệu thiếu hoặc NaN một lần nữa"
   ]
  },
  {
   "cell_type": "markdown",
   "metadata": {
    "id": "BULnI4KC_OTT"
   },
   "source": [
    "  - Nếu số lượng NaN liên tục quá nhiều, ta có thể xem xét bỏ luôn bộ dữ liệu đó đi hoặc lược bỏ đoạn dữ liệu từ chỗ thiếu đổ về trước hoặc đổ về sau.\n",
    "  - Sử dụng một vài phương pháp học máy đơn giản hoặc hồi quy tuyến tính để dự đoán các giá trị thiếu, sau khi đã cho các mô hình này huấn luyện với dữ liệu đầy đủ.\n",
    "  - Thay thế bằng các giá trị ngẫu nhiên nằm trong khoảng nào đó.\n",
    "  - Thay thế bằng quy tắc tự định nghĩa."
   ]
  },
  {
   "cell_type": "code",
   "execution_count": 17,
   "metadata": {
    "colab": {
     "base_uri": "https://localhost:8080/",
     "height": 487
    },
    "id": "fpJ--HpD7krY",
    "outputId": "641ca2b0-6ae3-4eec-c6b8-0fc3570a9024",
    "scrolled": true
   },
   "outputs": [
    {
     "data": {
      "text/html": [
       "<div>\n",
       "<style scoped>\n",
       "    .dataframe tbody tr th:only-of-type {\n",
       "        vertical-align: middle;\n",
       "    }\n",
       "\n",
       "    .dataframe tbody tr th {\n",
       "        vertical-align: top;\n",
       "    }\n",
       "\n",
       "    .dataframe thead th {\n",
       "        text-align: right;\n",
       "    }\n",
       "</style>\n",
       "<table border=\"1\" class=\"dataframe\">\n",
       "  <thead>\n",
       "    <tr style=\"text-align: right;\">\n",
       "      <th></th>\n",
       "      <th>BVH</th>\n",
       "      <th>CTG</th>\n",
       "      <th>DPM</th>\n",
       "      <th>DPR</th>\n",
       "      <th>DXG</th>\n",
       "      <th>EIB</th>\n",
       "      <th>FPT</th>\n",
       "      <th>GAS</th>\n",
       "      <th>GMD</th>\n",
       "      <th>HPG</th>\n",
       "      <th>MBB</th>\n",
       "      <th>MSN</th>\n",
       "      <th>NKG</th>\n",
       "      <th>PNJ</th>\n",
       "      <th>PTB</th>\n",
       "      <th>STB</th>\n",
       "      <th>VCB</th>\n",
       "      <th>VIC</th>\n",
       "      <th>VNINDEX</th>\n",
       "      <th>VNM</th>\n",
       "    </tr>\n",
       "  </thead>\n",
       "  <tbody>\n",
       "    <tr>\n",
       "      <th>0</th>\n",
       "      <td>45.6569</td>\n",
       "      <td>12.4018</td>\n",
       "      <td>13.5002</td>\n",
       "      <td>18.3937</td>\n",
       "      <td>3.3882</td>\n",
       "      <td>15.6319</td>\n",
       "      <td>10.5722</td>\n",
       "      <td>24.8349</td>\n",
       "      <td>10.0454</td>\n",
       "      <td>1.8272</td>\n",
       "      <td>4.9108</td>\n",
       "      <td>53.4079</td>\n",
       "      <td>4.0648</td>\n",
       "      <td>10.0215</td>\n",
       "      <td>2.7723</td>\n",
       "      <td>15.6833</td>\n",
       "      <td>13.8005</td>\n",
       "      <td>16.7846</td>\n",
       "      <td>448.02</td>\n",
       "      <td>16.4147</td>\n",
       "    </tr>\n",
       "    <tr>\n",
       "      <th>1</th>\n",
       "      <td>44.8416</td>\n",
       "      <td>12.0636</td>\n",
       "      <td>13.6186</td>\n",
       "      <td>18.3937</td>\n",
       "      <td>3.2863</td>\n",
       "      <td>15.7183</td>\n",
       "      <td>10.4257</td>\n",
       "      <td>26.0463</td>\n",
       "      <td>10.0052</td>\n",
       "      <td>1.8272</td>\n",
       "      <td>4.8125</td>\n",
       "      <td>51.8523</td>\n",
       "      <td>3.8800</td>\n",
       "      <td>10.0697</td>\n",
       "      <td>2.7129</td>\n",
       "      <td>15.8088</td>\n",
       "      <td>13.4639</td>\n",
       "      <td>17.1170</td>\n",
       "      <td>447.94</td>\n",
       "      <td>16.2302</td>\n",
       "    </tr>\n",
       "    <tr>\n",
       "      <th>2</th>\n",
       "      <td>43.2110</td>\n",
       "      <td>11.7253</td>\n",
       "      <td>13.3028</td>\n",
       "      <td>18.2116</td>\n",
       "      <td>3.1334</td>\n",
       "      <td>15.7183</td>\n",
       "      <td>10.2163</td>\n",
       "      <td>24.7743</td>\n",
       "      <td>9.7239</td>\n",
       "      <td>1.8198</td>\n",
       "      <td>4.6816</td>\n",
       "      <td>51.8523</td>\n",
       "      <td>3.6952</td>\n",
       "      <td>10.0938</td>\n",
       "      <td>2.6337</td>\n",
       "      <td>15.6833</td>\n",
       "      <td>12.7907</td>\n",
       "      <td>16.9508</td>\n",
       "      <td>436.75</td>\n",
       "      <td>16.1380</td>\n",
       "    </tr>\n",
       "    <tr>\n",
       "      <th>3</th>\n",
       "      <td>41.5804</td>\n",
       "      <td>11.3871</td>\n",
       "      <td>13.2239</td>\n",
       "      <td>17.4831</td>\n",
       "      <td>2.9806</td>\n",
       "      <td>15.4592</td>\n",
       "      <td>10.1745</td>\n",
       "      <td>23.5628</td>\n",
       "      <td>9.7641</td>\n",
       "      <td>1.7828</td>\n",
       "      <td>4.6161</td>\n",
       "      <td>51.8523</td>\n",
       "      <td>3.8800</td>\n",
       "      <td>9.9975</td>\n",
       "      <td>2.6337</td>\n",
       "      <td>15.6206</td>\n",
       "      <td>12.2858</td>\n",
       "      <td>16.7846</td>\n",
       "      <td>426.92</td>\n",
       "      <td>15.9536</td>\n",
       "    </tr>\n",
       "    <tr>\n",
       "      <th>4</th>\n",
       "      <td>43.6186</td>\n",
       "      <td>11.9508</td>\n",
       "      <td>13.8554</td>\n",
       "      <td>17.7016</td>\n",
       "      <td>3.1079</td>\n",
       "      <td>15.6319</td>\n",
       "      <td>10.3838</td>\n",
       "      <td>23.6234</td>\n",
       "      <td>10.2463</td>\n",
       "      <td>1.8494</td>\n",
       "      <td>4.8453</td>\n",
       "      <td>51.8523</td>\n",
       "      <td>4.0648</td>\n",
       "      <td>10.0215</td>\n",
       "      <td>2.7129</td>\n",
       "      <td>15.9970</td>\n",
       "      <td>12.8749</td>\n",
       "      <td>16.9508</td>\n",
       "      <td>437.38</td>\n",
       "      <td>16.1380</td>\n",
       "    </tr>\n",
       "    <tr>\n",
       "      <th>...</th>\n",
       "      <td>...</td>\n",
       "      <td>...</td>\n",
       "      <td>...</td>\n",
       "      <td>...</td>\n",
       "      <td>...</td>\n",
       "      <td>...</td>\n",
       "      <td>...</td>\n",
       "      <td>...</td>\n",
       "      <td>...</td>\n",
       "      <td>...</td>\n",
       "      <td>...</td>\n",
       "      <td>...</td>\n",
       "      <td>...</td>\n",
       "      <td>...</td>\n",
       "      <td>...</td>\n",
       "      <td>...</td>\n",
       "      <td>...</td>\n",
       "      <td>...</td>\n",
       "      <td>...</td>\n",
       "      <td>...</td>\n",
       "    </tr>\n",
       "    <tr>\n",
       "      <th>2491</th>\n",
       "      <td>47.9000</td>\n",
       "      <td>24.5500</td>\n",
       "      <td>46.0500</td>\n",
       "      <td>68.5000</td>\n",
       "      <td>25.0000</td>\n",
       "      <td>31.1000</td>\n",
       "      <td>93.2000</td>\n",
       "      <td>95.0000</td>\n",
       "      <td>48.4000</td>\n",
       "      <td>36.3000</td>\n",
       "      <td>24.6000</td>\n",
       "      <td>90.2000</td>\n",
       "      <td>25.7000</td>\n",
       "      <td>98.0000</td>\n",
       "      <td>96.0000</td>\n",
       "      <td>19.0500</td>\n",
       "      <td>74.2000</td>\n",
       "      <td>77.0000</td>\n",
       "      <td>1171.95</td>\n",
       "      <td>65.8000</td>\n",
       "    </tr>\n",
       "    <tr>\n",
       "      <th>2492</th>\n",
       "      <td>51.2000</td>\n",
       "      <td>26.2500</td>\n",
       "      <td>49.2500</td>\n",
       "      <td>73.2000</td>\n",
       "      <td>26.2000</td>\n",
       "      <td>31.5000</td>\n",
       "      <td>99.7000</td>\n",
       "      <td>100.9000</td>\n",
       "      <td>51.7000</td>\n",
       "      <td>38.2000</td>\n",
       "      <td>26.3000</td>\n",
       "      <td>96.5000</td>\n",
       "      <td>27.4500</td>\n",
       "      <td>103.1000</td>\n",
       "      <td>98.0000</td>\n",
       "      <td>20.3500</td>\n",
       "      <td>76.0000</td>\n",
       "      <td>78.0000</td>\n",
       "      <td>1228.37</td>\n",
       "      <td>70.0000</td>\n",
       "    </tr>\n",
       "    <tr>\n",
       "      <th>2493</th>\n",
       "      <td>50.7000</td>\n",
       "      <td>26.6000</td>\n",
       "      <td>52.4000</td>\n",
       "      <td>74.7000</td>\n",
       "      <td>26.7000</td>\n",
       "      <td>31.5000</td>\n",
       "      <td>97.7000</td>\n",
       "      <td>105.0000</td>\n",
       "      <td>51.2000</td>\n",
       "      <td>38.2000</td>\n",
       "      <td>26.6500</td>\n",
       "      <td>103.2000</td>\n",
       "      <td>29.0000</td>\n",
       "      <td>102.1000</td>\n",
       "      <td>97.0000</td>\n",
       "      <td>21.7500</td>\n",
       "      <td>75.4000</td>\n",
       "      <td>78.0000</td>\n",
       "      <td>1240.76</td>\n",
       "      <td>70.3000</td>\n",
       "    </tr>\n",
       "    <tr>\n",
       "      <th>2494</th>\n",
       "      <td>50.1000</td>\n",
       "      <td>26.1000</td>\n",
       "      <td>53.5000</td>\n",
       "      <td>76.3000</td>\n",
       "      <td>25.5000</td>\n",
       "      <td>30.4000</td>\n",
       "      <td>97.0000</td>\n",
       "      <td>105.8000</td>\n",
       "      <td>51.0000</td>\n",
       "      <td>37.9000</td>\n",
       "      <td>26.7500</td>\n",
       "      <td>110.4000</td>\n",
       "      <td>28.7000</td>\n",
       "      <td>102.1000</td>\n",
       "      <td>98.0000</td>\n",
       "      <td>21.7500</td>\n",
       "      <td>76.0000</td>\n",
       "      <td>77.9000</td>\n",
       "      <td>1241.64</td>\n",
       "      <td>69.0000</td>\n",
       "    </tr>\n",
       "    <tr>\n",
       "      <th>2495</th>\n",
       "      <td>50.2000</td>\n",
       "      <td>25.9000</td>\n",
       "      <td>55.5000</td>\n",
       "      <td>76.2000</td>\n",
       "      <td>26.9500</td>\n",
       "      <td>30.9000</td>\n",
       "      <td>97.5000</td>\n",
       "      <td>104.5000</td>\n",
       "      <td>49.8000</td>\n",
       "      <td>37.6500</td>\n",
       "      <td>27.0000</td>\n",
       "      <td>107.8000</td>\n",
       "      <td>29.7000</td>\n",
       "      <td>106.0000</td>\n",
       "      <td>102.5000</td>\n",
       "      <td>21.6000</td>\n",
       "      <td>75.3000</td>\n",
       "      <td>77.8000</td>\n",
       "      <td>1240.71</td>\n",
       "      <td>68.1000</td>\n",
       "    </tr>\n",
       "  </tbody>\n",
       "</table>\n",
       "<p>2496 rows × 20 columns</p>\n",
       "</div>"
      ],
      "text/plain": [
       "          BVH      CTG      DPM      DPR      DXG      EIB      FPT       GAS  \\\n",
       "0     45.6569  12.4018  13.5002  18.3937   3.3882  15.6319  10.5722   24.8349   \n",
       "1     44.8416  12.0636  13.6186  18.3937   3.2863  15.7183  10.4257   26.0463   \n",
       "2     43.2110  11.7253  13.3028  18.2116   3.1334  15.7183  10.2163   24.7743   \n",
       "3     41.5804  11.3871  13.2239  17.4831   2.9806  15.4592  10.1745   23.5628   \n",
       "4     43.6186  11.9508  13.8554  17.7016   3.1079  15.6319  10.3838   23.6234   \n",
       "...       ...      ...      ...      ...      ...      ...      ...       ...   \n",
       "2491  47.9000  24.5500  46.0500  68.5000  25.0000  31.1000  93.2000   95.0000   \n",
       "2492  51.2000  26.2500  49.2500  73.2000  26.2000  31.5000  99.7000  100.9000   \n",
       "2493  50.7000  26.6000  52.4000  74.7000  26.7000  31.5000  97.7000  105.0000   \n",
       "2494  50.1000  26.1000  53.5000  76.3000  25.5000  30.4000  97.0000  105.8000   \n",
       "2495  50.2000  25.9000  55.5000  76.2000  26.9500  30.9000  97.5000  104.5000   \n",
       "\n",
       "          GMD      HPG      MBB       MSN      NKG       PNJ       PTB  \\\n",
       "0     10.0454   1.8272   4.9108   53.4079   4.0648   10.0215    2.7723   \n",
       "1     10.0052   1.8272   4.8125   51.8523   3.8800   10.0697    2.7129   \n",
       "2      9.7239   1.8198   4.6816   51.8523   3.6952   10.0938    2.6337   \n",
       "3      9.7641   1.7828   4.6161   51.8523   3.8800    9.9975    2.6337   \n",
       "4     10.2463   1.8494   4.8453   51.8523   4.0648   10.0215    2.7129   \n",
       "...       ...      ...      ...       ...      ...       ...       ...   \n",
       "2491  48.4000  36.3000  24.6000   90.2000  25.7000   98.0000   96.0000   \n",
       "2492  51.7000  38.2000  26.3000   96.5000  27.4500  103.1000   98.0000   \n",
       "2493  51.2000  38.2000  26.6500  103.2000  29.0000  102.1000   97.0000   \n",
       "2494  51.0000  37.9000  26.7500  110.4000  28.7000  102.1000   98.0000   \n",
       "2495  49.8000  37.6500  27.0000  107.8000  29.7000  106.0000  102.5000   \n",
       "\n",
       "          STB      VCB      VIC  VNINDEX      VNM  \n",
       "0     15.6833  13.8005  16.7846   448.02  16.4147  \n",
       "1     15.8088  13.4639  17.1170   447.94  16.2302  \n",
       "2     15.6833  12.7907  16.9508   436.75  16.1380  \n",
       "3     15.6206  12.2858  16.7846   426.92  15.9536  \n",
       "4     15.9970  12.8749  16.9508   437.38  16.1380  \n",
       "...       ...      ...      ...      ...      ...  \n",
       "2491  19.0500  74.2000  77.0000  1171.95  65.8000  \n",
       "2492  20.3500  76.0000  78.0000  1228.37  70.0000  \n",
       "2493  21.7500  75.4000  78.0000  1240.76  70.3000  \n",
       "2494  21.7500  76.0000  77.9000  1241.64  69.0000  \n",
       "2495  21.6000  75.3000  77.8000  1240.71  68.1000  \n",
       "\n",
       "[2496 rows x 20 columns]"
      ]
     },
     "execution_count": 17,
     "metadata": {},
     "output_type": "execute_result"
    }
   ],
   "source": [
    "close_all"
   ]
  },
  {
   "cell_type": "code",
   "execution_count": 7,
   "metadata": {
    "id": "8IQ2yx3q_JC7"
   },
   "outputs": [],
   "source": [
    "import numpy as np\n",
    "close_all_filled = close_all\n",
    "# Thay thế giá trị nhỏ hơn 0 bằng nan rồi thay bằng giá trị mean\n",
    "close_all_filled[close_all_filled < 0] = np.nan\n",
    "# Thay thế NaN bằng mean\n",
    "close_all_filled = close_all_filled.fillna(close_all_filled.mean())"
   ]
  },
  {
   "cell_type": "code",
   "execution_count": 8,
   "metadata": {
    "colab": {
     "base_uri": "https://localhost:8080/",
     "height": 307
    },
    "id": "RR3jddG55HBx",
    "outputId": "be01718d-9b89-4903-cd08-34d638c22753"
   },
   "outputs": [
    {
     "data": {
      "text/plain": [
       "(0.0, 5000.0)"
      ]
     },
     "execution_count": 8,
     "metadata": {},
     "output_type": "execute_result"
    },
    {
     "data": {
      "image/png": "[encoded data removed]",
      "text/plain": [
       "<Figure size 432x288 with 1 Axes>"
      ]
     },
     "metadata": {
      "needs_background": "light"
     },
     "output_type": "display_data"
    }
   ],
   "source": [
    "close_all_filled['datetime'] = pd.to_datetime(close_all_filled.index, unit='D')\n",
    "close_all_filled = close_all_filled.resample('1d', on='datetime').mean().dropna(how='all')\n",
    "pd.plotting.autocorrelation_plot(close_all_filled.iloc[:, 0]).set_xlim([0, 5000])"
   ]
  },
  {
   "cell_type": "code",
   "execution_count": 9,
   "metadata": {
    "colab": {
     "base_uri": "https://localhost:8080/",
     "height": 692
    },
    "id": "00BZn18D_f4W",
    "outputId": "80829bfb-7b84-4319-cfea-0598d1ebeae0"
   },
   "outputs": [
    {
     "data": {
      "text/html": [
       "<div>\n",
       "<style scoped>\n",
       "    .dataframe tbody tr th:only-of-type {\n",
       "        vertical-align: middle;\n",
       "    }\n",
       "\n",
       "    .dataframe tbody tr th {\n",
       "        vertical-align: top;\n",
       "    }\n",
       "\n",
       "    .dataframe thead th {\n",
       "        text-align: right;\n",
       "    }\n",
       "</style>\n",
       "<table border=\"1\" class=\"dataframe\">\n",
       "  <thead>\n",
       "    <tr style=\"text-align: right;\">\n",
       "      <th></th>\n",
       "      <th>BVH</th>\n",
       "      <th>CTG</th>\n",
       "      <th>DPM</th>\n",
       "      <th>DPR</th>\n",
       "      <th>DXG</th>\n",
       "      <th>EIB</th>\n",
       "      <th>FPT</th>\n",
       "      <th>GAS</th>\n",
       "      <th>GMD</th>\n",
       "      <th>HPG</th>\n",
       "      <th>MBB</th>\n",
       "      <th>MSN</th>\n",
       "      <th>NKG</th>\n",
       "      <th>PNJ</th>\n",
       "      <th>PTB</th>\n",
       "      <th>STB</th>\n",
       "      <th>VCB</th>\n",
       "      <th>VIC</th>\n",
       "      <th>VNINDEX</th>\n",
       "      <th>VNM</th>\n",
       "    </tr>\n",
       "    <tr>\n",
       "      <th>datetime</th>\n",
       "      <th></th>\n",
       "      <th></th>\n",
       "      <th></th>\n",
       "      <th></th>\n",
       "      <th></th>\n",
       "      <th></th>\n",
       "      <th></th>\n",
       "      <th></th>\n",
       "      <th></th>\n",
       "      <th></th>\n",
       "      <th></th>\n",
       "      <th></th>\n",
       "      <th></th>\n",
       "      <th></th>\n",
       "      <th></th>\n",
       "      <th></th>\n",
       "      <th></th>\n",
       "      <th></th>\n",
       "      <th></th>\n",
       "      <th></th>\n",
       "    </tr>\n",
       "  </thead>\n",
       "  <tbody>\n",
       "    <tr>\n",
       "      <th>1970-01-01</th>\n",
       "      <td>45.6569</td>\n",
       "      <td>12.4018</td>\n",
       "      <td>13.5002</td>\n",
       "      <td>18.3937</td>\n",
       "      <td>3.3882</td>\n",
       "      <td>15.6319</td>\n",
       "      <td>10.5722</td>\n",
       "      <td>24.8349</td>\n",
       "      <td>10.0454</td>\n",
       "      <td>1.8272</td>\n",
       "      <td>4.9108</td>\n",
       "      <td>53.4079</td>\n",
       "      <td>4.0648</td>\n",
       "      <td>10.0215</td>\n",
       "      <td>2.7723</td>\n",
       "      <td>15.6833</td>\n",
       "      <td>13.8005</td>\n",
       "      <td>16.7846</td>\n",
       "      <td>448.02</td>\n",
       "      <td>16.4147</td>\n",
       "    </tr>\n",
       "    <tr>\n",
       "      <th>1970-01-02</th>\n",
       "      <td>44.8416</td>\n",
       "      <td>12.0636</td>\n",
       "      <td>13.6186</td>\n",
       "      <td>18.3937</td>\n",
       "      <td>3.2863</td>\n",
       "      <td>15.7183</td>\n",
       "      <td>10.4257</td>\n",
       "      <td>26.0463</td>\n",
       "      <td>10.0052</td>\n",
       "      <td>1.8272</td>\n",
       "      <td>4.8125</td>\n",
       "      <td>51.8523</td>\n",
       "      <td>3.8800</td>\n",
       "      <td>10.0697</td>\n",
       "      <td>2.7129</td>\n",
       "      <td>15.8088</td>\n",
       "      <td>13.4639</td>\n",
       "      <td>17.1170</td>\n",
       "      <td>447.94</td>\n",
       "      <td>16.2302</td>\n",
       "    </tr>\n",
       "    <tr>\n",
       "      <th>1970-01-03</th>\n",
       "      <td>43.2110</td>\n",
       "      <td>11.7253</td>\n",
       "      <td>13.3028</td>\n",
       "      <td>18.2116</td>\n",
       "      <td>3.1334</td>\n",
       "      <td>15.7183</td>\n",
       "      <td>10.2163</td>\n",
       "      <td>24.7743</td>\n",
       "      <td>9.7239</td>\n",
       "      <td>1.8198</td>\n",
       "      <td>4.6816</td>\n",
       "      <td>51.8523</td>\n",
       "      <td>3.6952</td>\n",
       "      <td>10.0938</td>\n",
       "      <td>2.6337</td>\n",
       "      <td>15.6833</td>\n",
       "      <td>12.7907</td>\n",
       "      <td>16.9508</td>\n",
       "      <td>436.75</td>\n",
       "      <td>16.1380</td>\n",
       "    </tr>\n",
       "    <tr>\n",
       "      <th>1970-01-04</th>\n",
       "      <td>41.5804</td>\n",
       "      <td>11.3871</td>\n",
       "      <td>13.2239</td>\n",
       "      <td>17.4831</td>\n",
       "      <td>2.9806</td>\n",
       "      <td>15.4592</td>\n",
       "      <td>10.1745</td>\n",
       "      <td>23.5628</td>\n",
       "      <td>9.7641</td>\n",
       "      <td>1.7828</td>\n",
       "      <td>4.6161</td>\n",
       "      <td>51.8523</td>\n",
       "      <td>3.8800</td>\n",
       "      <td>9.9975</td>\n",
       "      <td>2.6337</td>\n",
       "      <td>15.6206</td>\n",
       "      <td>12.2858</td>\n",
       "      <td>16.7846</td>\n",
       "      <td>426.92</td>\n",
       "      <td>15.9536</td>\n",
       "    </tr>\n",
       "    <tr>\n",
       "      <th>1970-01-05</th>\n",
       "      <td>43.6186</td>\n",
       "      <td>11.9508</td>\n",
       "      <td>13.8554</td>\n",
       "      <td>17.7016</td>\n",
       "      <td>3.1079</td>\n",
       "      <td>15.6319</td>\n",
       "      <td>10.3838</td>\n",
       "      <td>23.6234</td>\n",
       "      <td>10.2463</td>\n",
       "      <td>1.8494</td>\n",
       "      <td>4.8453</td>\n",
       "      <td>51.8523</td>\n",
       "      <td>4.0648</td>\n",
       "      <td>10.0215</td>\n",
       "      <td>2.7129</td>\n",
       "      <td>15.9970</td>\n",
       "      <td>12.8749</td>\n",
       "      <td>16.9508</td>\n",
       "      <td>437.38</td>\n",
       "      <td>16.1380</td>\n",
       "    </tr>\n",
       "    <tr>\n",
       "      <th>...</th>\n",
       "      <td>...</td>\n",
       "      <td>...</td>\n",
       "      <td>...</td>\n",
       "      <td>...</td>\n",
       "      <td>...</td>\n",
       "      <td>...</td>\n",
       "      <td>...</td>\n",
       "      <td>...</td>\n",
       "      <td>...</td>\n",
       "      <td>...</td>\n",
       "      <td>...</td>\n",
       "      <td>...</td>\n",
       "      <td>...</td>\n",
       "      <td>...</td>\n",
       "      <td>...</td>\n",
       "      <td>...</td>\n",
       "      <td>...</td>\n",
       "      <td>...</td>\n",
       "      <td>...</td>\n",
       "      <td>...</td>\n",
       "    </tr>\n",
       "    <tr>\n",
       "      <th>1976-10-27</th>\n",
       "      <td>47.9000</td>\n",
       "      <td>24.5500</td>\n",
       "      <td>46.0500</td>\n",
       "      <td>68.5000</td>\n",
       "      <td>25.0000</td>\n",
       "      <td>31.1000</td>\n",
       "      <td>93.2000</td>\n",
       "      <td>95.0000</td>\n",
       "      <td>48.4000</td>\n",
       "      <td>36.3000</td>\n",
       "      <td>24.6000</td>\n",
       "      <td>90.2000</td>\n",
       "      <td>25.7000</td>\n",
       "      <td>98.0000</td>\n",
       "      <td>96.0000</td>\n",
       "      <td>19.0500</td>\n",
       "      <td>74.2000</td>\n",
       "      <td>77.0000</td>\n",
       "      <td>1171.95</td>\n",
       "      <td>65.8000</td>\n",
       "    </tr>\n",
       "    <tr>\n",
       "      <th>1976-10-28</th>\n",
       "      <td>51.2000</td>\n",
       "      <td>26.2500</td>\n",
       "      <td>49.2500</td>\n",
       "      <td>73.2000</td>\n",
       "      <td>26.2000</td>\n",
       "      <td>31.5000</td>\n",
       "      <td>99.7000</td>\n",
       "      <td>100.9000</td>\n",
       "      <td>51.7000</td>\n",
       "      <td>38.2000</td>\n",
       "      <td>26.3000</td>\n",
       "      <td>96.5000</td>\n",
       "      <td>27.4500</td>\n",
       "      <td>103.1000</td>\n",
       "      <td>98.0000</td>\n",
       "      <td>20.3500</td>\n",
       "      <td>76.0000</td>\n",
       "      <td>78.0000</td>\n",
       "      <td>1228.37</td>\n",
       "      <td>70.0000</td>\n",
       "    </tr>\n",
       "    <tr>\n",
       "      <th>1976-10-29</th>\n",
       "      <td>50.7000</td>\n",
       "      <td>26.6000</td>\n",
       "      <td>52.4000</td>\n",
       "      <td>74.7000</td>\n",
       "      <td>26.7000</td>\n",
       "      <td>31.5000</td>\n",
       "      <td>97.7000</td>\n",
       "      <td>105.0000</td>\n",
       "      <td>51.2000</td>\n",
       "      <td>38.2000</td>\n",
       "      <td>26.6500</td>\n",
       "      <td>103.2000</td>\n",
       "      <td>29.0000</td>\n",
       "      <td>102.1000</td>\n",
       "      <td>97.0000</td>\n",
       "      <td>21.7500</td>\n",
       "      <td>75.4000</td>\n",
       "      <td>78.0000</td>\n",
       "      <td>1240.76</td>\n",
       "      <td>70.3000</td>\n",
       "    </tr>\n",
       "    <tr>\n",
       "      <th>1976-10-30</th>\n",
       "      <td>50.1000</td>\n",
       "      <td>26.1000</td>\n",
       "      <td>53.5000</td>\n",
       "      <td>76.3000</td>\n",
       "      <td>25.5000</td>\n",
       "      <td>30.4000</td>\n",
       "      <td>97.0000</td>\n",
       "      <td>105.8000</td>\n",
       "      <td>51.0000</td>\n",
       "      <td>37.9000</td>\n",
       "      <td>26.7500</td>\n",
       "      <td>110.4000</td>\n",
       "      <td>28.7000</td>\n",
       "      <td>102.1000</td>\n",
       "      <td>98.0000</td>\n",
       "      <td>21.7500</td>\n",
       "      <td>76.0000</td>\n",
       "      <td>77.9000</td>\n",
       "      <td>1241.64</td>\n",
       "      <td>69.0000</td>\n",
       "    </tr>\n",
       "    <tr>\n",
       "      <th>1976-10-31</th>\n",
       "      <td>50.2000</td>\n",
       "      <td>25.9000</td>\n",
       "      <td>55.5000</td>\n",
       "      <td>76.2000</td>\n",
       "      <td>26.9500</td>\n",
       "      <td>30.9000</td>\n",
       "      <td>97.5000</td>\n",
       "      <td>104.5000</td>\n",
       "      <td>49.8000</td>\n",
       "      <td>37.6500</td>\n",
       "      <td>27.0000</td>\n",
       "      <td>107.8000</td>\n",
       "      <td>29.7000</td>\n",
       "      <td>106.0000</td>\n",
       "      <td>102.5000</td>\n",
       "      <td>21.6000</td>\n",
       "      <td>75.3000</td>\n",
       "      <td>77.8000</td>\n",
       "      <td>1240.71</td>\n",
       "      <td>68.1000</td>\n",
       "    </tr>\n",
       "  </tbody>\n",
       "</table>\n",
       "<p>2496 rows × 20 columns</p>\n",
       "</div>"
      ],
      "text/plain": [
       "                BVH      CTG      DPM      DPR      DXG      EIB      FPT  \\\n",
       "datetime                                                                    \n",
       "1970-01-01  45.6569  12.4018  13.5002  18.3937   3.3882  15.6319  10.5722   \n",
       "1970-01-02  44.8416  12.0636  13.6186  18.3937   3.2863  15.7183  10.4257   \n",
       "1970-01-03  43.2110  11.7253  13.3028  18.2116   3.1334  15.7183  10.2163   \n",
       "1970-01-04  41.5804  11.3871  13.2239  17.4831   2.9806  15.4592  10.1745   \n",
       "1970-01-05  43.6186  11.9508  13.8554  17.7016   3.1079  15.6319  10.3838   \n",
       "...             ...      ...      ...      ...      ...      ...      ...   \n",
       "1976-10-27  47.9000  24.5500  46.0500  68.5000  25.0000  31.1000  93.2000   \n",
       "1976-10-28  51.2000  26.2500  49.2500  73.2000  26.2000  31.5000  99.7000   \n",
       "1976-10-29  50.7000  26.6000  52.4000  74.7000  26.7000  31.5000  97.7000   \n",
       "1976-10-30  50.1000  26.1000  53.5000  76.3000  25.5000  30.4000  97.0000   \n",
       "1976-10-31  50.2000  25.9000  55.5000  76.2000  26.9500  30.9000  97.5000   \n",
       "\n",
       "                 GAS      GMD      HPG      MBB       MSN      NKG       PNJ  \\\n",
       "datetime                                                                       \n",
       "1970-01-01   24.8349  10.0454   1.8272   4.9108   53.4079   4.0648   10.0215   \n",
       "1970-01-02   26.0463  10.0052   1.8272   4.8125   51.8523   3.8800   10.0697   \n",
       "1970-01-03   24.7743   9.7239   1.8198   4.6816   51.8523   3.6952   10.0938   \n",
       "1970-01-04   23.5628   9.7641   1.7828   4.6161   51.8523   3.8800    9.9975   \n",
       "1970-01-05   23.6234  10.2463   1.8494   4.8453   51.8523   4.0648   10.0215   \n",
       "...              ...      ...      ...      ...       ...      ...       ...   \n",
       "1976-10-27   95.0000  48.4000  36.3000  24.6000   90.2000  25.7000   98.0000   \n",
       "1976-10-28  100.9000  51.7000  38.2000  26.3000   96.5000  27.4500  103.1000   \n",
       "1976-10-29  105.0000  51.2000  38.2000  26.6500  103.2000  29.0000  102.1000   \n",
       "1976-10-30  105.8000  51.0000  37.9000  26.7500  110.4000  28.7000  102.1000   \n",
       "1976-10-31  104.5000  49.8000  37.6500  27.0000  107.8000  29.7000  106.0000   \n",
       "\n",
       "                 PTB      STB      VCB      VIC  VNINDEX      VNM  \n",
       "datetime                                                           \n",
       "1970-01-01    2.7723  15.6833  13.8005  16.7846   448.02  16.4147  \n",
       "1970-01-02    2.7129  15.8088  13.4639  17.1170   447.94  16.2302  \n",
       "1970-01-03    2.6337  15.6833  12.7907  16.9508   436.75  16.1380  \n",
       "1970-01-04    2.6337  15.6206  12.2858  16.7846   426.92  15.9536  \n",
       "1970-01-05    2.7129  15.9970  12.8749  16.9508   437.38  16.1380  \n",
       "...              ...      ...      ...      ...      ...      ...  \n",
       "1976-10-27   96.0000  19.0500  74.2000  77.0000  1171.95  65.8000  \n",
       "1976-10-28   98.0000  20.3500  76.0000  78.0000  1228.37  70.0000  \n",
       "1976-10-29   97.0000  21.7500  75.4000  78.0000  1240.76  70.3000  \n",
       "1976-10-30   98.0000  21.7500  76.0000  77.9000  1241.64  69.0000  \n",
       "1976-10-31  102.5000  21.6000  75.3000  77.8000  1240.71  68.1000  \n",
       "\n",
       "[2496 rows x 20 columns]"
      ]
     },
     "execution_count": 9,
     "metadata": {},
     "output_type": "execute_result"
    }
   ],
   "source": [
    "close_all_filled"
   ]
  },
  {
   "cell_type": "markdown",
   "metadata": {
    "id": "VZp5HfFfB23k"
   },
   "source": [
    "### Tìm và xử lý outliers\n",
    "Outliers là các điểm dữ liệu mà chúng nằm khá \"xa\" so với hầu hết các điểm dữ liệu còn lại.\n",
    "\n",
    "1. Một vài phương pháp tìm outliers:\n",
    "- Thống kê\n",
    "- Vẽ đồ thị và phát hiện trực quan\n",
    "\n",
    "2. Xử lý outliers: Xử lý tương tự đối với với giá trị thiếu và NaN đã nêu ở trên."
   ]
  },
  {
   "cell_type": "code",
   "execution_count": 10,
   "metadata": {
    "id": "LWGmiUF-hWIP"
   },
   "outputs": [],
   "source": [
    "# Phát hiện outliers bằng phương pháp thống kê interquartile range\n",
    "q1 = close_all_filled.quantile(0.25)\n",
    "q3  = close_all_filled.quantile(0.75)\n",
    "iqr = q3 - q1\n",
    "# \n",
    "close_all_filled_filtered = close_all_filled[(close_all_filled > (q1 - 1.5*iqr)) & (close_all_filled < (q3 + 1.5*iqr))]"
   ]
  },
  {
   "cell_type": "code",
   "execution_count": 11,
   "metadata": {
    "colab": {
     "base_uri": "https://localhost:8080/",
     "height": 343
    },
    "id": "STdtC1BOiqTs",
    "outputId": "82abb559-b891-4411-cde0-eb7fc67dbd0f"
   },
   "outputs": [
    {
     "data": {
      "text/plain": [
       "<AxesSubplot:>"
      ]
     },
     "execution_count": 11,
     "metadata": {},
     "output_type": "execute_result"
    },
    {
     "data": {
      "image/png": "[encoded data removed]",
      "text/plain": [
       "<Figure size 432x288 with 1 Axes>"
      ]
     },
     "metadata": {
      "needs_background": "light"
     },
     "output_type": "display_data"
    }
   ],
   "source": [
    "# Phát hiện outliers bằng phương pháp vẽ đồ thị (boxplot)\n",
    "# Những điểm nằm ngoài hai cái râu đều là các giá trị outliers.\n",
    "# Số lượng outliers nhiều như thế này có thể coi là đặc điểm của bộ dữ liệu. Ta chỉ cần xử lý vài điểm nằm ngoài hẳn như các giá trị >= 80\n",
    "close_all_filled.iloc[:, :2].join(close_all_filled_filtered.iloc[:, :2], rsuffix='_filtered').boxplot()"
   ]
  },
  {
   "cell_type": "markdown",
   "metadata": {
    "id": "9twHm0Kl7HTG"
   },
   "source": [
    "## Thống kê lại dữ liệu sau khi đã làm sạch"
   ]
  },
  {
   "cell_type": "code",
   "execution_count": 12,
   "metadata": {
    "colab": {
     "base_uri": "https://localhost:8080/"
    },
    "id": "lz5hha9CA9Fs",
    "outputId": "8c448733-81ae-4c30-af6c-8fe55f78d439"
   },
   "outputs": [
    {
     "name": "stdout",
     "output_type": "stream",
     "text": [
      "BVH        0\n",
      "CTG        0\n",
      "DPM        0\n",
      "DPR        0\n",
      "DXG        0\n",
      "EIB        0\n",
      "FPT        0\n",
      "GAS        0\n",
      "GMD        0\n",
      "HPG        0\n",
      "MBB        0\n",
      "MSN        0\n",
      "NKG        0\n",
      "PNJ        0\n",
      "PTB        0\n",
      "STB        0\n",
      "VCB        0\n",
      "VIC        0\n",
      "VNINDEX    0\n",
      "VNM        0\n",
      "dtype: int64\n",
      "BVH        0\n",
      "CTG        0\n",
      "DPM        0\n",
      "DPR        0\n",
      "DXG        0\n",
      "EIB        0\n",
      "FPT        0\n",
      "GAS        0\n",
      "GMD        0\n",
      "HPG        0\n",
      "MBB        0\n",
      "MSN        0\n",
      "NKG        0\n",
      "PNJ        0\n",
      "PTB        0\n",
      "STB        0\n",
      "VCB        0\n",
      "VIC        0\n",
      "VNINDEX    0\n",
      "VNM        0\n",
      "dtype: int64\n",
      "               BVH          CTG          DPM          DPR          DXG  \\\n",
      "count  2496.000000  2496.000000  2496.000000  2496.000000  2496.000000   \n",
      "mean     53.313114    16.463501    18.729902    29.145529    11.075666   \n",
      "std      17.393336     7.303455     9.619696    16.295700     8.276098   \n",
      "min      20.849600     9.002500     9.265400    14.017400     1.783200   \n",
      "25%      39.468225    11.330700    14.960475    18.562000     5.168800   \n",
      "50%      53.219600    13.943700    16.601100    23.993600     8.595950   \n",
      "75%      61.033400    18.416800    18.153800    34.297300    15.348600   \n",
      "max     102.107400    41.141800    75.100000   100.000000    46.750000   \n",
      "\n",
      "               EIB          FPT          GAS          GMD          HPG  \\\n",
      "count  2496.000000  2496.000000  2496.000000  2496.000000  2496.000000   \n",
      "mean     15.672193    30.769941    64.368076    22.125009    14.426742   \n",
      "std       5.489658    24.792986    25.765380    11.102873    13.719484   \n",
      "min       8.800000     6.969800    21.563900     6.107600     1.427700   \n",
      "25%      12.350000    14.884400    44.111300    14.083875     5.163700   \n",
      "50%      13.941300    21.056450    61.868800    19.836500     9.565400   \n",
      "75%      17.200000    38.151700    86.976675    25.717300    17.217500   \n",
      "max      37.500000   116.600000   125.000000    59.500000    58.000000   \n",
      "\n",
      "               MBB          MSN          NKG          PNJ          PTB  \\\n",
      "count  2496.000000  2496.000000  2496.000000  2496.000000  2496.000000   \n",
      "mean     11.445345    57.723725    11.126458    45.344664    41.760616   \n",
      "std       7.516998    23.840450    11.002729    32.207679    29.822368   \n",
      "min       4.092300    30.852100     1.970800     7.724800     2.217900   \n",
      "25%       5.649300    41.654700     4.215650    12.347900    13.271100   \n",
      "50%       8.743800    49.072700     5.787800    42.878100    47.079300   \n",
      "75%      14.242475    68.473500    14.293625    73.685425    58.881400   \n",
      "max      34.400000   143.327600    55.900000   123.500000   129.500000   \n",
      "\n",
      "               STB          VCB          VIC      VNINDEX          VNM  \n",
      "count  2496.000000  2496.000000  2496.000000  2496.000000  2496.000000  \n",
      "mean     14.509459    38.395057    54.191330   802.300577    69.688243  \n",
      "std       5.587400    23.890054    35.335451   292.927482    27.974839  \n",
      "min       7.300000     8.835700    14.726300   375.260000    15.769100  \n",
      "25%      11.437500    14.675425    20.872200   570.022500    40.434400  \n",
      "50%      12.795200    28.051150    31.590800   725.360000    79.499800  \n",
      "75%      14.691700    60.512875    91.469325   979.365000    90.871825  \n",
      "max      35.850000    95.800000   128.016000  1528.570000   126.220000  \n"
     ]
    }
   ],
   "source": [
    "print(close_all_filled.isna().sum())\n",
    "print(close_all_filled.lt(0).sum())\n",
    "print(close_all_filled.describe())"
   ]
  },
  {
   "cell_type": "markdown",
   "metadata": {
    "id": "HsNbruP-7OVF"
   },
   "source": [
    "## Exploratory Data Analysis"
   ]
  },
  {
   "cell_type": "markdown",
   "metadata": {
    "id": "BHxzw_Jt7O40"
   },
   "source": [
    "### Xác định tính trend, seasonality, cyclic\n",
    "- Trend: Xu hướng tăng, giảm hay đi ngang của dữ liệu\n",
    "- Seasonality: Tính chu kì của dữ liệu. Dữ liệu có xu hướng có pattern sau một khoảng thời gian nhất định.\n",
    "- Cyclic: Biểu hiện sự dao động không có tính chu kì.\n",
    "\n",
    "\n"
   ]
  },
  {
   "cell_type": "code",
   "execution_count": 13,
   "metadata": {
    "colab": {
     "base_uri": "https://localhost:8080/",
     "height": 303
    },
    "id": "V6hrHxiIEpgC",
    "outputId": "c98f1974-deb6-48a8-e763-1d97239249e5"
   },
   "outputs": [
    {
     "data": {
      "text/plain": [
       "<AxesSubplot:xlabel='datetime'>"
      ]
     },
     "execution_count": 13,
     "metadata": {},
     "output_type": "execute_result"
    },
    {
     "data": {
      "image/png": "[encoded data removed]",
      "text/plain": [
       "<Figure size 432x288 with 1 Axes>"
      ]
     },
     "metadata": {
      "needs_background": "light"
     },
     "output_type": "display_data"
    }
   ],
   "source": [
    "close_all_filled.iloc[0:2496, 0].plot()"
   ]
  },
  {
   "cell_type": "code",
   "execution_count": 14,
   "metadata": {
    "colab": {
     "base_uri": "https://localhost:8080/",
     "height": 303
    },
    "id": "mccyt9w5GFZL",
    "outputId": "b229905b-2ca5-48e7-9950-8cf8dd1d71bc"
   },
   "outputs": [
    {
     "data": {
      "text/plain": [
       "<AxesSubplot:xlabel='datetime'>"
      ]
     },
     "execution_count": 14,
     "metadata": {},
     "output_type": "execute_result"
    },
    {
     "data": {
      "image/png": "[encoded data removed]",
      "text/plain": [
       "<Figure size 432x288 with 1 Axes>"
      ]
     },
     "metadata": {
      "needs_background": "light"
     },
     "output_type": "display_data"
    }
   ],
   "source": [
    "close_all_filled.iloc[0:2496, 1].plot()"
   ]
  },
  {
   "cell_type": "code",
   "execution_count": 15,
   "metadata": {
    "colab": {
     "base_uri": "https://localhost:8080/",
     "height": 303
    },
    "id": "-9gFkv9jGFwr",
    "outputId": "ab811006-2263-4fc8-c8bf-0d5bd8fca058"
   },
   "outputs": [
    {
     "data": {
      "text/plain": [
       "<AxesSubplot:xlabel='datetime'>"
      ]
     },
     "execution_count": 15,
     "metadata": {},
     "output_type": "execute_result"
    },
    {
     "data": {
      "image/png": "[encoded data removed]",
      "text/plain": [
       "<Figure size 432x288 with 1 Axes>"
      ]
     },
     "metadata": {
      "needs_background": "light"
     },
     "output_type": "display_data"
    }
   ],
   "source": [
    "close_all_filled.iloc[0:2496, 2].plot()"
   ]
  },
  {
   "cell_type": "code",
   "execution_count": 16,
   "metadata": {
    "colab": {
     "base_uri": "https://localhost:8080/",
     "height": 303
    },
    "id": "RQ75WjQH_DP1",
    "outputId": "8062e6aa-bd28-469e-fd99-462724a454c7"
   },
   "outputs": [
    {
     "data": {
      "text/plain": [
       "<AxesSubplot:xlabel='datetime'>"
      ]
     },
     "execution_count": 16,
     "metadata": {},
     "output_type": "execute_result"
    },
    {
     "data": {
      "image/png": "[encoded data removed]",
      "text/plain": [
       "<Figure size 432x288 with 1 Axes>"
      ]
     },
     "metadata": {
      "needs_background": "light"
     },
     "output_type": "display_data"
    }
   ],
   "source": [
    "close_all_filled.iloc[0:2496, 3].plot()"
   ]
  },
  {
   "cell_type": "markdown",
   "metadata": {
    "id": "B1gXrAz2_Cyu"
   },
   "source": [
    "### Xác định tính stationary and non stationary\n",
    "\n",
    "Stationary time series có giá trị trung bình và phương sai không bị thay đổi theo thời gian (không phụ thuộc vào biến thời gian).\n",
    "\n",
    "Stationary time series rất dễ để dự đoán!\n",
    "\n",
    "Để xác định time series có tính stationary hay không ta có một số phương pháp:\n",
    "- Chia time series thành 2 hay nhiều khoảng, tính trung bình và phương sai trên các khoảng dữ liệu này. Nếu có sự sai lệch rất ít hoặc không sai lệch thì dữ liệu có tính stationary.\n",
    "- Dùng các phương pháp thống kê như Augmented Dickey-Fuller Test:\n",
    "  - Null Hypothesis: Time series có tính non stationary.\n",
    "  - Alternate Hypothesis: Time Series có tính stationary.\n",
    "  - ADF Statistic < critical values: Chấp thuận null hypothesis. Time series có tính non stationary.\n",
    "  - ADF or t Statistic > critical values: Từ chối null hypothesis. Giả thiết thay thế là đúng: Time series có tính stationary.\n"
   ]
  },
  {
   "cell_type": "code",
   "execution_count": 17,
   "metadata": {
    "colab": {
     "base_uri": "https://localhost:8080/",
     "height": 450
    },
    "id": "v1W-5hrBHXdT",
    "outputId": "312eee4d-9b76-4c21-f4f0-5bc90da84e3a"
   },
   "outputs": [
    {
     "name": "stdout",
     "output_type": "stream",
     "text": [
      "4.5264423076923075\n",
      "23.303685897435898\n",
      "5.358275163338264\n",
      "196.1329351321088\n",
      "ADF Statistic: -0.765892\n",
      "Critical Values:\n",
      "\t1%: -3.433\n",
      "\t5%: -2.863\n",
      "\t10%: -2.567\n",
      "Accept Ho - Time Series is Non-Stationary\n"
     ]
    },
    {
     "data": {
      "image/png": "[encoded data removed]",
      "text/plain": [
       "<Figure size 432x288 with 1 Axes>"
      ]
     },
     "metadata": {
      "needs_background": "light"
     },
     "output_type": "display_data"
    }
   ],
   "source": [
    "import pandas as pd\n",
    "import numpy as np\n",
    "from statsmodels.tsa.stattools import adfuller\n",
    "one_gauge_data = df_all[\"HPG\"]\n",
    "one_gauge_data = one_gauge_data.drop(columns=['<DTYYYYMMDD>'])\n",
    "one_gauge_data = one_gauge_data.replace(\"**\", -999).astype(int)\n",
    "one_gauge_data[one_gauge_data < 0] = np.nan\n",
    "one_gauge_data = one_gauge_data.fillna(one_gauge_data.mean())\n",
    "# Thay thế giá trị nhỏ hơn 0 bằng mean\n",
    "one_gauge_data['<Close>'].plot()\n",
    "one_gauge_close = one_gauge_data['<Close>'].to_numpy()\n",
    "\n",
    "data1 = one_gauge_close[0:int(len(one_gauge_data)/2)]\n",
    "data2 = one_gauge_close[int(len(one_gauge_data)/2):]\n",
    "\n",
    "print(data1.mean())\n",
    "print(data2.mean())\n",
    "print(data1.var())\n",
    "print(data2.var())\n",
    "results = adfuller(one_gauge_close)\n",
    "print('ADF Statistic: %f' % results[0])\n",
    "print('Critical Values:')\n",
    "for key, value in results[4].items():\n",
    "    print('\\t%s: %.3f' % (key, value))\n",
    "if results[0] > results[4][\"5%\"]:\n",
    "    print (\"Accept Ho - Time Series is Non-Stationary\")\n",
    "else:\n",
    "    print (\"Reject Ho - Time Series is Stationary\")"
   ]
  },
  {
   "cell_type": "markdown",
   "metadata": {
    "id": "9xs5VxoDHX8q"
   },
   "source": [
    "### Xem xét tính tương quan giữa các biến với nhau hoặc chính nó sử dụng correlation và autocorrelation\n",
    "\n",
    "Ta xét: \n",
    "- Sự tương quan giữa các trạm với nhau\n",
    "- Sự tương quan giữa các thuộc tính trong 1 cổ phiếu với nhau\n",
    "- Sự tương quan của 1 thuộc tính với chính nó trong quá khứ (autocorrelation)"
   ]
  },
  {
   "cell_type": "code",
   "execution_count": 18,
   "metadata": {
    "colab": {
     "base_uri": "https://localhost:8080/",
     "height": 959
    },
    "id": "a6sTvjUsIvUc",
    "outputId": "e0271d36-3681-451f-8006-ac2f16fc6c24"
   },
   "outputs": [
    {
     "data": {
      "text/plain": [
       "<AxesSubplot:>"
      ]
     },
     "execution_count": 18,
     "metadata": {},
     "output_type": "execute_result"
    },
    {
     "data": {
      "image/png": "[encoded data removed]",
      "text/plain": [
       "<Figure size 1152x1152 with 2 Axes>"
      ]
     },
     "metadata": {},
     "output_type": "display_data"
    }
   ],
   "source": [
    "# Tương quan giữa các cổ phiếu\n",
    "import seaborn as sns; sns.set_theme()\n",
    "import matplotlib.pyplot as plt\n",
    "\n",
    "plt.figure(figsize=(16,16))\n",
    "corr_gauges = close_all_filled.corr()\n",
    "sns.heatmap(corr_gauges, \n",
    "        xticklabels=corr_gauges.columns,\n",
    "        yticklabels=corr_gauges.columns)"
   ]
  },
  {
   "cell_type": "code",
   "execution_count": 19,
   "metadata": {
    "colab": {
     "base_uri": "https://localhost:8080/"
    },
    "id": "UFjX0iuZKU66",
    "outputId": "f57cf492-5260-40e7-ae7b-b450824e6e13"
   },
   "outputs": [
    {
     "data": {
      "text/plain": [
       "[6, 9]"
      ]
     },
     "execution_count": 19,
     "metadata": {},
     "output_type": "execute_result"
    }
   ],
   "source": [
    "# chọn 2 cổ phiếu có correlation cao nhất \n",
    "tram_list = []\n",
    "corr_array = np.array(corr_gauges[corr_gauges < 1].fillna(0.5))\n",
    "from numpy import unravel_index\n",
    "tram_list = list(unravel_index(corr_array.argmax(), corr_array.shape))\n",
    "tram_list.sort()\n",
    "tram_list\n"
   ]
  },
  {
   "cell_type": "code",
   "execution_count": 20,
   "metadata": {
    "colab": {
     "base_uri": "https://localhost:8080/",
     "height": 339
    },
    "id": "XMR90AdpNTyS",
    "outputId": "21d534a9-0c32-4d4e-eb6f-b659603adf32"
   },
   "outputs": [
    {
     "data": {
      "text/plain": [
       "<AxesSubplot:>"
      ]
     },
     "execution_count": 20,
     "metadata": {},
     "output_type": "execute_result"
    },
    {
     "data": {
      "image/png": "[encoded data removed]",
      "text/plain": [
       "<Figure size 432x288 with 2 Axes>"
      ]
     },
     "metadata": {},
     "output_type": "display_data"
    }
   ],
   "source": [
    "# Tương quan giữa các thuộc tính trong 1 trạm\n",
    "import seaborn as sns; sns.set_theme()\n",
    "import pandas as pd\n",
    "one_gauge_data = df_all[\"HPG\"]\n",
    "one_gauge_data = one_gauge_data.drop(columns=['<DTYYYYMMDD>'])\n",
    "one_gauge_data = one_gauge_data.replace(\"**\", -999).astype(int)\n",
    "one_gauge_data = one_gauge_data.fillna(one_gauge_data.mean())\n",
    "# Thay thế giá trị nhỏ hơn 0 bằng mean\n",
    "one_gauge_data[one_gauge_data < 0] = 0\n",
    "\n",
    "corr_features = one_gauge_data.corr()\n",
    "sns.heatmap(corr_features, \n",
    "        xticklabels=corr_features.columns,\n",
    "        yticklabels=corr_features.columns)"
   ]
  },
  {
   "cell_type": "code",
   "execution_count": 21,
   "metadata": {
    "colab": {
     "base_uri": "https://localhost:8080/",
     "height": 307
    },
    "id": "TkIjfOyH2P39",
    "outputId": "e6da9fa8-244b-4209-8274-b0ed6defc9e1"
   },
   "outputs": [
    {
     "data": {
      "text/plain": [
       "<AxesSubplot:xlabel='Lag', ylabel='Autocorrelation'>"
      ]
     },
     "execution_count": 21,
     "metadata": {},
     "output_type": "execute_result"
    },
    {
     "data": {
      "image/png": "[encoded data removed]",
      "text/plain": [
       "<Figure size 432x288 with 1 Axes>"
      ]
     },
     "metadata": {},
     "output_type": "display_data"
    }
   ],
   "source": [
    "pd.plotting.autocorrelation_plot(one_gauge_data['<Close>'])\n"
   ]
  },
  {
   "cell_type": "markdown",
   "metadata": {
    "id": "pTAmCEiBI8Jj"
   },
   "source": [
    "### Xác định tính multicollinearity\n",
    "\n",
    "Multicolinearity xuất hiện khi có hay nhiều hơn các biến tương quan chặt chẽ với một biến khác. Điều này có thể gây rối loạn khi ta muốn giải thích xem yếu tố nào ảnh hưởng tới biến cần dự đoán. \n",
    "\n",
    "Ta sử dụng chỉ số VIF (Variable Inflation Factors) để đánh giá tương quan của các biến với một biến. Mặc dù correlation heatmap cũng có thể tìm được multicollinearity nhưng thường nó chỉ thể hiện mối quan hệ giữa 2 biến với nhau. Còn VIF xem xét mối tương quan của một biến với các biến còn lại.\n",
    "\n",
    "Tham khảo: https://www.analyticsvidhya.com/blog/2020/03/what-is-multicollinearity/"
   ]
  },
  {
   "cell_type": "code",
   "execution_count": 22,
   "metadata": {
    "colab": {
     "base_uri": "https://localhost:8080/",
     "height": 175
    },
    "id": "zCTjlkZmI-k7",
    "outputId": "d1b6d47e-1b95-4147-aef9-2fcee78fa321"
   },
   "outputs": [
    {
     "data": {
      "text/html": [
       "<div>\n",
       "<style scoped>\n",
       "    .dataframe tbody tr th:only-of-type {\n",
       "        vertical-align: middle;\n",
       "    }\n",
       "\n",
       "    .dataframe tbody tr th {\n",
       "        vertical-align: top;\n",
       "    }\n",
       "\n",
       "    .dataframe thead th {\n",
       "        text-align: right;\n",
       "    }\n",
       "</style>\n",
       "<table border=\"1\" class=\"dataframe\">\n",
       "  <thead>\n",
       "    <tr style=\"text-align: right;\">\n",
       "      <th></th>\n",
       "      <th>variables</th>\n",
       "      <th>VIF</th>\n",
       "    </tr>\n",
       "  </thead>\n",
       "  <tbody>\n",
       "    <tr>\n",
       "      <th>0</th>\n",
       "      <td>&lt;Open&gt;</td>\n",
       "      <td>4186.163045</td>\n",
       "    </tr>\n",
       "    <tr>\n",
       "      <th>1</th>\n",
       "      <td>&lt;High&gt;</td>\n",
       "      <td>3842.119505</td>\n",
       "    </tr>\n",
       "    <tr>\n",
       "      <th>2</th>\n",
       "      <td>&lt;Low&gt;</td>\n",
       "      <td>4175.044501</td>\n",
       "    </tr>\n",
       "    <tr>\n",
       "      <th>3</th>\n",
       "      <td>&lt;Close&gt;</td>\n",
       "      <td>3238.355838</td>\n",
       "    </tr>\n",
       "  </tbody>\n",
       "</table>\n",
       "</div>"
      ],
      "text/plain": [
       "  variables          VIF\n",
       "0    <Open>  4186.163045\n",
       "1    <High>  3842.119505\n",
       "2     <Low>  4175.044501\n",
       "3   <Close>  3238.355838"
      ]
     },
     "execution_count": 22,
     "metadata": {},
     "output_type": "execute_result"
    }
   ],
   "source": [
    "from statsmodels.stats.outliers_influence import variance_inflation_factor\n",
    "def calc_vif(X):\n",
    "\n",
    "    # Calculating VIF\n",
    "    vif = pd.DataFrame()\n",
    "    vif[\"variables\"] = X.columns\n",
    "    vif[\"VIF\"] = [variance_inflation_factor(X.values, i) for i in range(X.shape[1])]\n",
    "\n",
    "    return(vif)\n",
    "  \n",
    "X = one_gauge_data.iloc[:,:-1]\n",
    "calc_vif(X)"
   ]
  },
  {
   "cell_type": "code",
   "execution_count": null,
   "metadata": {},
   "outputs": [],
   "source": []
  }
 ],
 "metadata": {
  "colab": {
   "collapsed_sections": [],
   "name": "phan_tich_du_lieu.ipynb",
   "provenance": []
  },
  "kernelspec": {
   "display_name": "Python 3 (ipykernel)",
   "language": "python",
   "name": "python3"
  },
  "language_info": {
   "codemirror_mode": {
    "name": "ipython",
    "version": 3
   },
   "file_extension": ".py",
   "mimetype": "text/x-python",
   "name": "python",
   "nbconvert_exporter": "python",
   "pygments_lexer": "ipython3",
   "version": "3.9.5"
  }
 },
 "nbformat": 4,
 "nbformat_minor": 1
}
